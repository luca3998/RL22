{
 "cells": [
  {
   "cell_type": "code",
   "execution_count": 3,
   "id": "ed4dcfc5-30ad-47de-a62b-5e80b2e1491d",
   "metadata": {},
   "outputs": [
    {
     "data": {
      "text/plain": [
       "[1, 3, 4, 2]"
      ]
     },
     "execution_count": 3,
     "metadata": {},
     "output_type": "execute_result"
    }
   ],
   "source": [
    "l = [1,3,4]\n",
    "l.append(2)\n",
    "mean(l)"
   ]
  },
  {
   "cell_type": "code",
   "execution_count": null,
   "id": "0634ad7f-24a9-4482-8662-6d4f8a231de4",
   "metadata": {},
   "outputs": [],
   "source": []
  }
 ],
 "metadata": {
  "kernelspec": {
   "display_name": "Python 3",
   "language": "python",
   "name": "python3"
  },
  "language_info": {
   "codemirror_mode": {
    "name": "ipython",
    "version": 3
   },
   "file_extension": ".py",
   "mimetype": "text/x-python",
   "name": "python",
   "nbconvert_exporter": "python",
   "pygments_lexer": "ipython3",
   "version": "3.8.5"
  }
 },
 "nbformat": 4,
 "nbformat_minor": 5
}
