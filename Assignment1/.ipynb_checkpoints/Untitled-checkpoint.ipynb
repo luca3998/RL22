{
 "cells": [
  {
   "cell_type": "code",
   "execution_count": 44,
   "id": "ed4dcfc5-30ad-47de-a62b-5e80b2e1491d",
   "metadata": {},
   "outputs": [],
   "source": [
    "import numpy as np\n",
    "\n",
    "l = [1,3,4]\n",
    "l.append(2)\n",
    "np.mean(l)\n",
    "q = np.full(4,0.0)\n",
    "r = 1\n",
    "a = 2\n",
    "alpha = 0.1\n"
   ]
  },
  {
   "cell_type": "code",
   "execution_count": 61,
   "id": "0634ad7f-24a9-4482-8662-6d4f8a231de4",
   "metadata": {},
   "outputs": [
    {
     "data": {
      "text/plain": [
       "array([0.        , 0.        , 0.84748805, 0.        ])"
      ]
     },
     "execution_count": 61,
     "metadata": {},
     "output_type": "execute_result"
    }
   ],
   "source": [
    "# self.q_table[a] += self.learning_rate * (r - self.q_table[a])\n",
    "old_q = q[a]\n",
    "\n",
    "q[a] += 0.1 * (r - q[a])\n",
    "q"
   ]
  },
  {
   "cell_type": "code",
   "execution_count": null,
   "id": "25ef7ff6-789c-4435-87b9-9a9d9a465c41",
   "metadata": {},
   "outputs": [],
   "source": []
  },
  {
   "cell_type": "code",
   "execution_count": null,
   "id": "cdeb58c4-2f93-4a2c-97f5-90d3a9c9ab08",
   "metadata": {},
   "outputs": [],
   "source": []
  }
 ],
 "metadata": {
  "kernelspec": {
   "display_name": "Python 3",
   "language": "python",
   "name": "python3"
  },
  "language_info": {
   "codemirror_mode": {
    "name": "ipython",
    "version": 3
   },
   "file_extension": ".py",
   "mimetype": "text/x-python",
   "name": "python",
   "nbconvert_exporter": "python",
   "pygments_lexer": "ipython3",
   "version": "3.8.5"
  }
 },
 "nbformat": 4,
 "nbformat_minor": 5
}
